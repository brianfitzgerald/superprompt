{
 "cells": [
  {
   "cell_type": "code",
   "execution_count": null,
   "id": "22ae025e-8f57-4454-a01a-7b9cf50098cc",
   "metadata": {},
   "outputs": [],
   "source": [
    "!pip install datasets transformers flair -q"
   ]
  },
  {
   "cell_type": "code",
   "execution_count": 2,
   "id": "044e834a-f6ab-4c93-8a1a-0747371c6cd7",
   "metadata": {},
   "outputs": [
    {
     "name": "stderr",
     "output_type": "stream",
     "text": [
      "/home/ubuntu/.local/lib/python3.8/site-packages/pandas/core/computation/expressions.py:20: UserWarning: Pandas requires version '2.7.3' or newer of 'numexpr' (version '2.7.1' currently installed).\n",
      "  from pandas.core.computation.check import NUMEXPR_INSTALLED\n"
     ]
    },
    {
     "data": {
      "application/vnd.jupyter.widget-view+json": {
       "model_id": "85a3f01bf9384318a16b4c4aac0a0823",
       "version_major": 2,
       "version_minor": 0
      },
      "text/plain": [
       "Downloading readme:   0%|          | 0.00/777 [00:00<?, ?B/s]"
      ]
     },
     "metadata": {},
     "output_type": "display_data"
    },
    {
     "name": "stdout",
     "output_type": "stream",
     "text": [
      "Downloading and preparing dataset parquet/Gustavosta--Stable-Diffusion-Prompts to /home/ubuntu/.cache/huggingface/datasets/Gustavosta___parquet/Gustavosta--Stable-Diffusion-Prompts-d22aeec0ba2a9fdb/0.0.0/2a3b91fbd88a2c90d1dbbb32b460cf621d31bd5b05b934492fdef7d8d6f236ec...\n"
     ]
    },
    {
     "data": {
      "application/vnd.jupyter.widget-view+json": {
       "model_id": "05709d63115f4931b32466ceb66614db",
       "version_major": 2,
       "version_minor": 0
      },
      "text/plain": [
       "Downloading data files:   0%|          | 0/2 [00:00<?, ?it/s]"
      ]
     },
     "metadata": {},
     "output_type": "display_data"
    },
    {
     "data": {
      "application/vnd.jupyter.widget-view+json": {
       "model_id": "4ed867401f8549f0903ef47dcc24b2a6",
       "version_major": 2,
       "version_minor": 0
      },
      "text/plain": [
       "Downloading data:   0%|          | 0.00/9.23M [00:00<?, ?B/s]"
      ]
     },
     "metadata": {},
     "output_type": "display_data"
    },
    {
     "data": {
      "application/vnd.jupyter.widget-view+json": {
       "model_id": "4a39468135cb4338a1e5c2d3f62a59b6",
       "version_major": 2,
       "version_minor": 0
      },
      "text/plain": [
       "Downloading data:   0%|          | 0.00/1.03M [00:00<?, ?B/s]"
      ]
     },
     "metadata": {},
     "output_type": "display_data"
    },
    {
     "data": {
      "application/vnd.jupyter.widget-view+json": {
       "model_id": "bf4520edf41a4dcca4d4e307190ed31d",
       "version_major": 2,
       "version_minor": 0
      },
      "text/plain": [
       "Extracting data files:   0%|          | 0/2 [00:00<?, ?it/s]"
      ]
     },
     "metadata": {},
     "output_type": "display_data"
    },
    {
     "data": {
      "application/vnd.jupyter.widget-view+json": {
       "model_id": "",
       "version_major": 2,
       "version_minor": 0
      },
      "text/plain": [
       "Generating train split: 0 examples [00:00, ? examples/s]"
      ]
     },
     "metadata": {},
     "output_type": "display_data"
    },
    {
     "data": {
      "application/vnd.jupyter.widget-view+json": {
       "model_id": "",
       "version_major": 2,
       "version_minor": 0
      },
      "text/plain": [
       "Generating test split: 0 examples [00:00, ? examples/s]"
      ]
     },
     "metadata": {},
     "output_type": "display_data"
    },
    {
     "name": "stdout",
     "output_type": "stream",
     "text": [
      "Dataset parquet downloaded and prepared to /home/ubuntu/.cache/huggingface/datasets/Gustavosta___parquet/Gustavosta--Stable-Diffusion-Prompts-d22aeec0ba2a9fdb/0.0.0/2a3b91fbd88a2c90d1dbbb32b460cf621d31bd5b05b934492fdef7d8d6f236ec. Subsequent calls will reuse this data.\n"
     ]
    },
    {
     "data": {
      "application/vnd.jupyter.widget-view+json": {
       "model_id": "9f96b83c47694dcc8128810c4aa9f0aa",
       "version_major": 2,
       "version_minor": 0
      },
      "text/plain": [
       "  0%|          | 0/2 [00:00<?, ?it/s]"
      ]
     },
     "metadata": {},
     "output_type": "display_data"
    }
   ],
   "source": [
    "from datasets import load_dataset\n",
    "\n",
    "dataset = load_dataset(\"Gustavosta/Stable-Diffusion-Prompts\")"
   ]
  },
  {
   "cell_type": "code",
   "execution_count": 6,
   "id": "5496a14b-d578-45ea-bfe2-d094b178a44b",
   "metadata": {},
   "outputs": [
    {
     "name": "stdout",
     "output_type": "stream",
     "text": [
      "--2023-04-22 14:49:05--  https://huggingface.co/datasets/poloclub/diffusiondb/resolve/main/metadata.parquet\n",
      "Resolving huggingface.co (huggingface.co)... 108.138.64.67, 108.138.64.87, 108.138.64.89, ...\n",
      "Connecting to huggingface.co (huggingface.co)|108.138.64.67|:443... connected.\n",
      "HTTP request sent, awaiting response... 302 Found\n",
      "Location: https://cdn-lfs.huggingface.co/repos/58/f9/58f98fbca33f710e0398954aaae3cf5c459fbc821e5e0dbd6013744a12ac2781/eecd341187bc91c07f5994ad0660d40228ea025616fd57a509bef8323677c68f?response-content-disposition=attachment%3B+filename*%3DUTF-8%27%27metadata.parquet%3B+filename%3D%22metadata.parquet%22%3B&Expires=1682434146&Policy=eyJTdGF0ZW1lbnQiOlt7IlJlc291cmNlIjoiaHR0cHM6Ly9jZG4tbGZzLmh1Z2dpbmdmYWNlLmNvL3JlcG9zLzU4L2Y5LzU4Zjk4ZmJjYTMzZjcxMGUwMzk4OTU0YWFhZTNjZjVjNDU5ZmJjODIxZTVlMGRiZDYwMTM3NDRhMTJhYzI3ODEvZWVjZDM0MTE4N2JjOTFjMDdmNTk5NGFkMDY2MGQ0MDIyOGVhMDI1NjE2ZmQ1N2E1MDliZWY4MzIzNjc3YzY4Zj9yZXNwb25zZS1jb250ZW50LWRpc3Bvc2l0aW9uPSoiLCJDb25kaXRpb24iOnsiRGF0ZUxlc3NUaGFuIjp7IkFXUzpFcG9jaFRpbWUiOjE2ODI0MzQxNDZ9fX1dfQ__&Signature=p-fP5DCmVTrf6cJE7cLeJWq81vsfSdP1wLapMUlWgRA9qccio1X4JkAM5y3Rt6ep2-G7QXagIowl2OE3VNbsy69m099n1Ol3Y1sg3qgcJnRjm4FI6zvlIwOVrNEAHSlDro-JwSh9u5B4UiXxAaer9bBkZ4nxWDu%7EHOrZ8hlxYnlZzMO6d3ivlubX1mu0k9Es5aOdVlfbG8gAKR3QCosunapmwMCxa0qXVoo2qkvbGrewFDDfPOAh4F5n1vZEe-2CiR6oRZJ7P6ewoNUezqYTmRhjg1zbE0u9TOWR-yhvgXAEiHFlyn4yrAA-7Uk5RFZVl42RTxq8GX4mdkJVe9IauQ__&Key-Pair-Id=KVTP0A1DKRTAX [following]\n",
      "--2023-04-22 14:49:05--  https://cdn-lfs.huggingface.co/repos/58/f9/58f98fbca33f710e0398954aaae3cf5c459fbc821e5e0dbd6013744a12ac2781/eecd341187bc91c07f5994ad0660d40228ea025616fd57a509bef8323677c68f?response-content-disposition=attachment%3B+filename*%3DUTF-8%27%27metadata.parquet%3B+filename%3D%22metadata.parquet%22%3B&Expires=1682434146&Policy=eyJTdGF0ZW1lbnQiOlt7IlJlc291cmNlIjoiaHR0cHM6Ly9jZG4tbGZzLmh1Z2dpbmdmYWNlLmNvL3JlcG9zLzU4L2Y5LzU4Zjk4ZmJjYTMzZjcxMGUwMzk4OTU0YWFhZTNjZjVjNDU5ZmJjODIxZTVlMGRiZDYwMTM3NDRhMTJhYzI3ODEvZWVjZDM0MTE4N2JjOTFjMDdmNTk5NGFkMDY2MGQ0MDIyOGVhMDI1NjE2ZmQ1N2E1MDliZWY4MzIzNjc3YzY4Zj9yZXNwb25zZS1jb250ZW50LWRpc3Bvc2l0aW9uPSoiLCJDb25kaXRpb24iOnsiRGF0ZUxlc3NUaGFuIjp7IkFXUzpFcG9jaFRpbWUiOjE2ODI0MzQxNDZ9fX1dfQ__&Signature=p-fP5DCmVTrf6cJE7cLeJWq81vsfSdP1wLapMUlWgRA9qccio1X4JkAM5y3Rt6ep2-G7QXagIowl2OE3VNbsy69m099n1Ol3Y1sg3qgcJnRjm4FI6zvlIwOVrNEAHSlDro-JwSh9u5B4UiXxAaer9bBkZ4nxWDu%7EHOrZ8hlxYnlZzMO6d3ivlubX1mu0k9Es5aOdVlfbG8gAKR3QCosunapmwMCxa0qXVoo2qkvbGrewFDDfPOAh4F5n1vZEe-2CiR6oRZJ7P6ewoNUezqYTmRhjg1zbE0u9TOWR-yhvgXAEiHFlyn4yrAA-7Uk5RFZVl42RTxq8GX4mdkJVe9IauQ__&Key-Pair-Id=KVTP0A1DKRTAX\n",
      "Resolving cdn-lfs.huggingface.co (cdn-lfs.huggingface.co)... 18.165.98.12, 18.165.98.107, 18.165.98.48, ...\n",
      "Connecting to cdn-lfs.huggingface.co (cdn-lfs.huggingface.co)|18.165.98.12|:443... connected.\n",
      "HTTP request sent, awaiting response... 200 OK\n",
      "Length: 194548652 (186M) [application/octet-stream]\n",
      "Saving to: ‘metadata.parquet’\n",
      "\n",
      "metadata.parquet    100%[===================>] 185.54M  88.2MB/s    in 2.1s    \n",
      "\n",
      "2023-04-22 14:49:08 (88.2 MB/s) - ‘metadata.parquet’ saved [194548652/194548652]\n",
      "\n"
     ]
    }
   ],
   "source": [
    "!wget https://huggingface.co/datasets/poloclub/diffusiondb/resolve/main/metadata.parquet"
   ]
  },
  {
   "cell_type": "code",
   "execution_count": null,
   "id": "f957480f-5cd9-4d19-95ab-01fc4dfe1cae",
   "metadata": {},
   "outputs": [],
   "source": []
  }
 ],
 "metadata": {
  "kernelspec": {
   "display_name": "Python 3",
   "language": "python",
   "name": "python3"
  },
  "language_info": {
   "codemirror_mode": {
    "name": "ipython",
    "version": 3
   },
   "file_extension": ".py",
   "mimetype": "text/x-python",
   "name": "python",
   "nbconvert_exporter": "python",
   "pygments_lexer": "ipython3",
   "version": "3.8.10"
  }
 },
 "nbformat": 4,
 "nbformat_minor": 5
}
