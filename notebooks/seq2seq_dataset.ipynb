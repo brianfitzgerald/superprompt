{
 "cells": [
  {
   "cell_type": "code",
   "execution_count": 4,
   "metadata": {},
   "outputs": [],
   "source": [
    "import os\n",
    "from urllib.request import urlretrieve\n",
    "import pandas as pd\n",
    "from datasets import load_dataset\n",
    "\n",
    "table_url = f'https://huggingface.co/datasets/poloclub/diffusiondb/resolve/main/metadata-large.parquet'\n",
    "\n",
    "pbar = None\n",
    "\n",
    "if not os.path.exists('metadata.parquet'):\n",
    "    print(\"retrieving metadata file\")\n",
    "    urlretrieve(table_url, 'metadata.parquet')\n",
    "# Read the table using Pandas\\n\",\n",
    "metadata_df = pd.read_parquet('metadata.parquet')"
   ]
  },
  {
   "cell_type": "code",
   "execution_count": 10,
   "metadata": {},
   "outputs": [
    {
     "name": "stdout",
     "output_type": "stream",
     "text": [
      "^C\n"
     ]
    },
    {
     "name": "stderr",
     "output_type": "stream",
     "text": [
      "The system cannot find the path specified.\n",
      "ERROR: Could not install packages due to an OSError: [WinError 5] Access is denied: 'C:\\\\Users\\\\coold\\\\AppData\\\\Local\\\\Packages\\\\PythonSoftwareFoundation.Python.3.10_qbz5n2kfra8p0\\\\LocalCache\\\\local-packages\\\\Python310\\\\site-packages\\\\~pacy\\\\attrs.cp310-win_amd64.pyd'\n",
      "Check the permissions.\n",
      "\n",
      "\n",
      "[notice] A new release of pip is available: 23.1.2 -> 23.2.1\n",
      "[notice] To update, run: C:\\Users\\coold\\AppData\\Local\\Microsoft\\WindowsApps\\PythonSoftwareFoundation.Python.3.10_qbz5n2kfra8p0\\python.exe -m pip install --upgrade pip\n"
     ]
    },
    {
     "name": "stdout",
     "output_type": "stream",
     "text": [
      "Collecting en-core-web-trf==any\n",
      "  Downloading https://huggingface.co/spacy/en_core_web_trf/resolve/main/en_core_web_trf-any-py3-none-any.whl (460.3 MB)\n",
      "     -------------------------------------- 460.3/460.3 MB 1.1 MB/s eta 0:00:00\n",
      "Collecting spacy<3.7.0,>=3.6.0 (from en-core-web-trf==any)\n",
      "  Using cached spacy-3.6.1-cp310-cp310-win_amd64.whl (12.0 MB)\n",
      "Collecting spacy-transformers<1.3.0,>=1.2.2 (from en-core-web-trf==any)\n",
      "  Using cached spacy_transformers-1.2.5-cp310-cp310-win_amd64.whl (301 kB)\n",
      "Requirement already satisfied: spacy-legacy<3.1.0,>=3.0.11 in c:\\users\\coold\\appdata\\local\\packages\\pythonsoftwarefoundation.python.3.10_qbz5n2kfra8p0\\localcache\\local-packages\\python310\\site-packages (from spacy<3.7.0,>=3.6.0->en-core-web-trf==any) (3.0.12)\n",
      "Requirement already satisfied: spacy-loggers<2.0.0,>=1.0.0 in c:\\users\\coold\\appdata\\local\\packages\\pythonsoftwarefoundation.python.3.10_qbz5n2kfra8p0\\localcache\\local-packages\\python310\\site-packages (from spacy<3.7.0,>=3.6.0->en-core-web-trf==any) (1.0.4)\n",
      "Requirement already satisfied: murmurhash<1.1.0,>=0.28.0 in c:\\users\\coold\\appdata\\local\\packages\\pythonsoftwarefoundation.python.3.10_qbz5n2kfra8p0\\localcache\\local-packages\\python310\\site-packages (from spacy<3.7.0,>=3.6.0->en-core-web-trf==any) (1.0.9)\n",
      "Requirement already satisfied: cymem<2.1.0,>=2.0.2 in c:\\users\\coold\\appdata\\local\\packages\\pythonsoftwarefoundation.python.3.10_qbz5n2kfra8p0\\localcache\\local-packages\\python310\\site-packages (from spacy<3.7.0,>=3.6.0->en-core-web-trf==any) (2.0.7)\n",
      "Requirement already satisfied: preshed<3.1.0,>=3.0.2 in c:\\users\\coold\\appdata\\local\\packages\\pythonsoftwarefoundation.python.3.10_qbz5n2kfra8p0\\localcache\\local-packages\\python310\\site-packages (from spacy<3.7.0,>=3.6.0->en-core-web-trf==any) (3.0.8)\n",
      "Requirement already satisfied: thinc<8.2.0,>=8.1.8 in c:\\users\\coold\\appdata\\local\\packages\\pythonsoftwarefoundation.python.3.10_qbz5n2kfra8p0\\localcache\\local-packages\\python310\\site-packages (from spacy<3.7.0,>=3.6.0->en-core-web-trf==any) (8.1.12)\n",
      "Requirement already satisfied: wasabi<1.2.0,>=0.9.1 in c:\\users\\coold\\appdata\\local\\packages\\pythonsoftwarefoundation.python.3.10_qbz5n2kfra8p0\\localcache\\local-packages\\python310\\site-packages (from spacy<3.7.0,>=3.6.0->en-core-web-trf==any) (1.1.1)\n",
      "Requirement already satisfied: srsly<3.0.0,>=2.4.3 in c:\\users\\coold\\appdata\\local\\packages\\pythonsoftwarefoundation.python.3.10_qbz5n2kfra8p0\\localcache\\local-packages\\python310\\site-packages (from spacy<3.7.0,>=3.6.0->en-core-web-trf==any) (2.4.5)\n",
      "Requirement already satisfied: catalogue<2.1.0,>=2.0.6 in c:\\users\\coold\\appdata\\local\\packages\\pythonsoftwarefoundation.python.3.10_qbz5n2kfra8p0\\localcache\\local-packages\\python310\\site-packages (from spacy<3.7.0,>=3.6.0->en-core-web-trf==any) (2.0.8)\n",
      "Requirement already satisfied: typer<0.10.0,>=0.3.0 in c:\\users\\coold\\appdata\\local\\packages\\pythonsoftwarefoundation.python.3.10_qbz5n2kfra8p0\\localcache\\local-packages\\python310\\site-packages (from spacy<3.7.0,>=3.6.0->en-core-web-trf==any) (0.7.0)\n",
      "Requirement already satisfied: pathy>=0.10.0 in c:\\users\\coold\\appdata\\local\\packages\\pythonsoftwarefoundation.python.3.10_qbz5n2kfra8p0\\localcache\\local-packages\\python310\\site-packages (from spacy<3.7.0,>=3.6.0->en-core-web-trf==any) (0.10.1)\n",
      "Requirement already satisfied: smart-open<7.0.0,>=5.2.1 in c:\\users\\coold\\appdata\\local\\packages\\pythonsoftwarefoundation.python.3.10_qbz5n2kfra8p0\\localcache\\local-packages\\python310\\site-packages (from spacy<3.7.0,>=3.6.0->en-core-web-trf==any) (6.3.0)\n",
      "Requirement already satisfied: tqdm<5.0.0,>=4.38.0 in c:\\users\\coold\\appdata\\local\\packages\\pythonsoftwarefoundation.python.3.10_qbz5n2kfra8p0\\localcache\\local-packages\\python310\\site-packages (from spacy<3.7.0,>=3.6.0->en-core-web-trf==any) (4.64.1)\n",
      "Requirement already satisfied: numpy>=1.15.0 in c:\\users\\coold\\appdata\\local\\packages\\pythonsoftwarefoundation.python.3.10_qbz5n2kfra8p0\\localcache\\local-packages\\python310\\site-packages (from spacy<3.7.0,>=3.6.0->en-core-web-trf==any) (1.23.4)\n",
      "Requirement already satisfied: requests<3.0.0,>=2.13.0 in c:\\users\\coold\\appdata\\local\\packages\\pythonsoftwarefoundation.python.3.10_qbz5n2kfra8p0\\localcache\\local-packages\\python310\\site-packages (from spacy<3.7.0,>=3.6.0->en-core-web-trf==any) (2.28.1)\n",
      "Requirement already satisfied: pydantic!=1.8,!=1.8.1,<3.0.0,>=1.7.4 in c:\\users\\coold\\appdata\\local\\packages\\pythonsoftwarefoundation.python.3.10_qbz5n2kfra8p0\\localcache\\local-packages\\python310\\site-packages (from spacy<3.7.0,>=3.6.0->en-core-web-trf==any) (1.10.4)\n",
      "Requirement already satisfied: jinja2 in c:\\users\\coold\\appdata\\local\\packages\\pythonsoftwarefoundation.python.3.10_qbz5n2kfra8p0\\localcache\\local-packages\\python310\\site-packages (from spacy<3.7.0,>=3.6.0->en-core-web-trf==any) (3.1.2)\n",
      "Requirement already satisfied: setuptools in c:\\program files\\windowsapps\\pythonsoftwarefoundation.python.3.10_3.10.3056.0_x64__qbz5n2kfra8p0\\lib\\site-packages (from spacy<3.7.0,>=3.6.0->en-core-web-trf==any) (65.5.0)\n",
      "Requirement already satisfied: packaging>=20.0 in c:\\users\\coold\\appdata\\local\\packages\\pythonsoftwarefoundation.python.3.10_qbz5n2kfra8p0\\localcache\\local-packages\\python310\\site-packages (from spacy<3.7.0,>=3.6.0->en-core-web-trf==any) (23.0)\n",
      "Requirement already satisfied: langcodes<4.0.0,>=3.2.0 in c:\\users\\coold\\appdata\\local\\packages\\pythonsoftwarefoundation.python.3.10_qbz5n2kfra8p0\\localcache\\local-packages\\python310\\site-packages (from spacy<3.7.0,>=3.6.0->en-core-web-trf==any) (3.3.0)\n",
      "Requirement already satisfied: transformers<4.31.0,>=3.4.0 in c:\\users\\coold\\appdata\\local\\packages\\pythonsoftwarefoundation.python.3.10_qbz5n2kfra8p0\\localcache\\local-packages\\python310\\site-packages (from spacy-transformers<1.3.0,>=1.2.2->en-core-web-trf==any) (4.28.1)\n",
      "Requirement already satisfied: torch>=1.8.0 in c:\\users\\coold\\appdata\\local\\packages\\pythonsoftwarefoundation.python.3.10_qbz5n2kfra8p0\\localcache\\local-packages\\python310\\site-packages (from spacy-transformers<1.3.0,>=1.2.2->en-core-web-trf==any) (1.13.0)\n",
      "Requirement already satisfied: spacy-alignments<1.0.0,>=0.7.2 in c:\\users\\coold\\appdata\\local\\packages\\pythonsoftwarefoundation.python.3.10_qbz5n2kfra8p0\\localcache\\local-packages\\python310\\site-packages (from spacy-transformers<1.3.0,>=1.2.2->en-core-web-trf==any) (0.9.1)\n",
      "Requirement already satisfied: typing-extensions>=4.2.0 in c:\\users\\coold\\appdata\\local\\packages\\pythonsoftwarefoundation.python.3.10_qbz5n2kfra8p0\\localcache\\local-packages\\python310\\site-packages (from pydantic!=1.8,!=1.8.1,<3.0.0,>=1.7.4->spacy<3.7.0,>=3.6.0->en-core-web-trf==any) (4.4.0)\n",
      "Requirement already satisfied: charset-normalizer<3,>=2 in c:\\users\\coold\\appdata\\local\\packages\\pythonsoftwarefoundation.python.3.10_qbz5n2kfra8p0\\localcache\\local-packages\\python310\\site-packages (from requests<3.0.0,>=2.13.0->spacy<3.7.0,>=3.6.0->en-core-web-trf==any) (2.1.1)\n",
      "Requirement already satisfied: idna<4,>=2.5 in c:\\users\\coold\\appdata\\local\\packages\\pythonsoftwarefoundation.python.3.10_qbz5n2kfra8p0\\localcache\\local-packages\\python310\\site-packages (from requests<3.0.0,>=2.13.0->spacy<3.7.0,>=3.6.0->en-core-web-trf==any) (3.4)\n",
      "Requirement already satisfied: urllib3<1.27,>=1.21.1 in c:\\users\\coold\\appdata\\local\\packages\\pythonsoftwarefoundation.python.3.10_qbz5n2kfra8p0\\localcache\\local-packages\\python310\\site-packages (from requests<3.0.0,>=2.13.0->spacy<3.7.0,>=3.6.0->en-core-web-trf==any) (1.26.12)\n",
      "Requirement already satisfied: certifi>=2017.4.17 in c:\\users\\coold\\appdata\\local\\packages\\pythonsoftwarefoundation.python.3.10_qbz5n2kfra8p0\\localcache\\local-packages\\python310\\site-packages (from requests<3.0.0,>=2.13.0->spacy<3.7.0,>=3.6.0->en-core-web-trf==any) (2022.9.24)\n",
      "Requirement already satisfied: blis<0.8.0,>=0.7.8 in c:\\users\\coold\\appdata\\local\\packages\\pythonsoftwarefoundation.python.3.10_qbz5n2kfra8p0\\localcache\\local-packages\\python310\\site-packages (from thinc<8.2.0,>=8.1.8->spacy<3.7.0,>=3.6.0->en-core-web-trf==any) (0.7.9)\n",
      "Requirement already satisfied: confection<1.0.0,>=0.0.1 in c:\\users\\coold\\appdata\\local\\packages\\pythonsoftwarefoundation.python.3.10_qbz5n2kfra8p0\\localcache\\local-packages\\python310\\site-packages (from thinc<8.2.0,>=8.1.8->spacy<3.7.0,>=3.6.0->en-core-web-trf==any) (0.0.4)\n",
      "Requirement already satisfied: colorama in c:\\users\\coold\\appdata\\local\\packages\\pythonsoftwarefoundation.python.3.10_qbz5n2kfra8p0\\localcache\\local-packages\\python310\\site-packages (from tqdm<5.0.0,>=4.38.0->spacy<3.7.0,>=3.6.0->en-core-web-trf==any) (0.4.6)\n",
      "Requirement already satisfied: filelock in c:\\users\\coold\\appdata\\local\\packages\\pythonsoftwarefoundation.python.3.10_qbz5n2kfra8p0\\localcache\\local-packages\\python310\\site-packages (from transformers<4.31.0,>=3.4.0->spacy-transformers<1.3.0,>=1.2.2->en-core-web-trf==any) (3.9.0)\n",
      "Requirement already satisfied: huggingface-hub<1.0,>=0.11.0 in c:\\users\\coold\\appdata\\local\\packages\\pythonsoftwarefoundation.python.3.10_qbz5n2kfra8p0\\localcache\\local-packages\\python310\\site-packages (from transformers<4.31.0,>=3.4.0->spacy-transformers<1.3.0,>=1.2.2->en-core-web-trf==any) (0.11.1)\n",
      "Requirement already satisfied: pyyaml>=5.1 in c:\\users\\coold\\appdata\\local\\packages\\pythonsoftwarefoundation.python.3.10_qbz5n2kfra8p0\\localcache\\local-packages\\python310\\site-packages (from transformers<4.31.0,>=3.4.0->spacy-transformers<1.3.0,>=1.2.2->en-core-web-trf==any) (6.0)\n",
      "Requirement already satisfied: regex!=2019.12.17 in c:\\users\\coold\\appdata\\local\\packages\\pythonsoftwarefoundation.python.3.10_qbz5n2kfra8p0\\localcache\\local-packages\\python310\\site-packages (from transformers<4.31.0,>=3.4.0->spacy-transformers<1.3.0,>=1.2.2->en-core-web-trf==any) (2022.10.31)\n",
      "Requirement already satisfied: tokenizers!=0.11.3,<0.14,>=0.11.1 in c:\\users\\coold\\appdata\\local\\packages\\pythonsoftwarefoundation.python.3.10_qbz5n2kfra8p0\\localcache\\local-packages\\python310\\site-packages (from transformers<4.31.0,>=3.4.0->spacy-transformers<1.3.0,>=1.2.2->en-core-web-trf==any) (0.13.1)\n",
      "Requirement already satisfied: click<9.0.0,>=7.1.1 in c:\\users\\coold\\appdata\\local\\packages\\pythonsoftwarefoundation.python.3.10_qbz5n2kfra8p0\\localcache\\local-packages\\python310\\site-packages (from typer<0.10.0,>=0.3.0->spacy<3.7.0,>=3.6.0->en-core-web-trf==any) (8.1.3)\n",
      "Requirement already satisfied: MarkupSafe>=2.0 in c:\\users\\coold\\appdata\\local\\packages\\pythonsoftwarefoundation.python.3.10_qbz5n2kfra8p0\\localcache\\local-packages\\python310\\site-packages (from jinja2->spacy<3.7.0,>=3.6.0->en-core-web-trf==any) (2.1.2)\n",
      "Installing collected packages: spacy, spacy-transformers, en-core-web-trf\n",
      "  Attempting uninstall: spacy\n",
      "    Found existing installation: spacy 3.5.0\n",
      "    Uninstalling spacy-3.5.0:\n",
      "      Successfully uninstalled spacy-3.5.0\n"
     ]
    }
   ],
   "source": [
    "! pip install https://huggingface.co/spacy/en_core_web_trf/resolve/main/en_core_web_trf-any-py3-none-any.whl"
   ]
  },
  {
   "cell_type": "code",
   "execution_count": 9,
   "metadata": {},
   "outputs": [
    {
     "ename": "ModuleNotFoundError",
     "evalue": "No module named 'en_core_web_trf'",
     "output_type": "error",
     "traceback": [
      "\u001b[1;31m---------------------------------------------------------------------------\u001b[0m",
      "\u001b[1;31mModuleNotFoundError\u001b[0m                       Traceback (most recent call last)",
      "\u001b[1;32mc:\\Users\\coold\\Documents\\GitHub\\superprompt\\notebooks\\seq2seq_dataset.ipynb Cell 3\u001b[0m line \u001b[0;36m1\n\u001b[1;32m----> <a href='vscode-notebook-cell:/c%3A/Users/coold/Documents/GitHub/superprompt/notebooks/seq2seq_dataset.ipynb#W1sZmlsZQ%3D%3D?line=0'>1</a>\u001b[0m \u001b[39mimport\u001b[39;00m \u001b[39men_core_web_trf\u001b[39;00m\n\u001b[0;32m      <a href='vscode-notebook-cell:/c%3A/Users/coold/Documents/GitHub/superprompt/notebooks/seq2seq_dataset.ipynb#W1sZmlsZQ%3D%3D?line=1'>2</a>\u001b[0m nlp \u001b[39m=\u001b[39m en_core_web_trf\u001b[39m.\u001b[39mload()\n",
      "\u001b[1;31mModuleNotFoundError\u001b[0m: No module named 'en_core_web_trf'"
     ]
    }
   ],
   "source": [
    "import en_core_web_trf\n",
    "nlp = en_core_web_trf.load()\n"
   ]
  },
  {
   "cell_type": "code",
   "execution_count": null,
   "metadata": {},
   "outputs": [],
   "source": [
    "metadata_df[\"prompt\"].head(10)"
   ]
  },
  {
   "cell_type": "code",
   "execution_count": 5,
   "metadata": {},
   "outputs": [
    {
     "data": {
      "text/plain": [
       "['a teddy bear family having breakfast on a plaid blanket on the meadow, picknick basket, morning mood, feng zhu and loish and laurie greasley, victo ngai, andreas rocha, john harris ',\n",
       " 'trippy trip aliens in GTA V',\n",
       " 'stunning goddess of beers portrait, clear eyes and dark skin. realistic, symmetrical face. art by bowater charlie, mark brooks, julie bell, arian mark, tony sandoval ',\n",
       " 'Terminator, Profile, portrait, intricate, detailed, volumetric lighting, scenery, digital painting, highly detailed, artstation, sharp focus, illustration, concept art, ruan jia, steve mccurry',\n",
       " 'a still frame from comic strip, sleeping bird, 1 9 5 0, herluf bidstrup, new yorker illustration, monochrome bw, lineart, manga, tadanori yokoo, simplified, ']"
      ]
     },
     "metadata": {},
     "output_type": "display_data"
    }
   ],
   "source": [
    "\n",
    "first_n_unique_prompts = metadata_df[\"prompt\"].sample(n=1000, random_state=42).drop_duplicates().head(100)\n",
    "display(first_n_unique_prompts.head(5).tolist())"
   ]
  },
  {
   "cell_type": "code",
   "execution_count": 6,
   "metadata": {},
   "outputs": [
    {
     "name": "stdout",
     "output_type": "stream",
     "text": [
      "---prompt--- detailed concept art of a huge giant bowser by cheng yi and luolin, aartstation, artstationhd, detailed scales, spiky and red hair tuft green scales. bowser, bowser nintendo, koopa, ~ bowser # bowser ( ( mario ) ) bcy. net, realistic. cheng yi, fire breathing. bowser \n",
      "ents detailed concept art []\n",
      "ents a huge giant bowser []\n",
      "ents cheng yi [('cheng yi', 'PERSON')]\n",
      "ents luolin [('luolin', 'PERSON')]\n",
      "ents aartstation []\n",
      "ents artstationhd []\n",
      "ents detailed scales []\n",
      "ents spiky []\n",
      "ents hair []\n",
      "ents tuft green scales []\n",
      "ents bowser []\n",
      "ents bowser []\n",
      "ents ( ( mario ) ) bcy []\n",
      "ents net []\n",
      "ents cheng yi [('cheng yi', 'PERSON')]\n",
      "ents fire breathing []\n",
      "ents bowser []\n",
      "---prompt--- a group of Japanese macaques in a snowy hot spring, oranges floating in the water, early morning\n",
      "ents a group []\n",
      "ents Japanese macaques [('Japanese', 'NORP')]\n",
      "ents a snowy hot spring []\n",
      "ents the water []\n"
     ]
    },
    {
     "name": "stderr",
     "output_type": "stream",
     "text": [
      "C:\\Users\\coold\\AppData\\Local\\Temp\\ipykernel_10956\\817031832.py:26: FutureWarning: The behavior of `series[i:j]` with an integer-dtype index is deprecated. In a future version, this will be treated as *label-based* indexing, consistent with e.g. `series[i]` lookups. To retain the old behavior, use `series.iloc[i:j]`. To get the future behavior, use `series.loc[i:j]`.\n",
      "  display([(p, process(p)) for p in first_n_unique_prompts[8:10]])\n"
     ]
    },
    {
     "data": {
      "text/plain": [
       "[('detailed concept art of a huge giant bowser by cheng yi and luolin, aartstation, artstationhd, detailed scales, spiky and red hair tuft green scales. bowser, bowser nintendo, koopa, ~ bowser # bowser ( ( mario ) ) bcy. net, realistic. cheng yi, fire breathing. bowser ',\n",
       "  ''),\n",
       " ('a group of Japanese macaques in a snowy hot spring, oranges floating in the water, early morning',\n",
       "  '')]"
      ]
     },
     "metadata": {},
     "output_type": "display_data"
    }
   ],
   "source": [
    "from datasets import Dataset, Features\n",
    "from spacy import displacy\n",
    "from spacy.symbols import nsubj, VERB\n",
    "\n",
    "\n",
    "def process(prompt):\n",
    "    doc = nlp(prompt)\n",
    "    # displacy.render(doc, style=\"dep\")\n",
    "    valid_tokens = []\n",
    "    prompt\n",
    "    # print(\"entities\")\n",
    "    print(\"---prompt---\", prompt)\n",
    "    # print('entities', [(ent.text, ent.label_) for ent in doc.ents])\n",
    "    # print('noun chunks', [chunk.text for chunk in doc.noun_chunks])\n",
    "    for chunk in doc.noun_chunks:\n",
    "        print('ents', chunk.text, [(ent.text, ent.label_) for ent in chunk.ents])\n",
    "\n",
    "    # print(\"token deps\")\n",
    "    # print('found', valid_tokens)\n",
    "    return \" \".join(valid_tokens)\n",
    "\n",
    "\n",
    "# display([(p, process(p)) for p in [\n",
    "#     \"stunning goddess of beers portrait, clear eyes and dark skin. realistic, symmetrical face. art by bowater charlie, mark brooks, julie bell, arian mark, tony sandoval \"\n",
    "# ]])\n",
    "display([(p, process(p)) for p in first_n_unique_prompts[8:10]])"
   ]
  }
 ],
 "metadata": {
  "kernelspec": {
   "display_name": "Python 3",
   "language": "python",
   "name": "python3"
  },
  "language_info": {
   "codemirror_mode": {
    "name": "ipython",
    "version": 3
   },
   "file_extension": ".py",
   "mimetype": "text/x-python",
   "name": "python",
   "nbconvert_exporter": "python",
   "pygments_lexer": "ipython3",
   "version": "3.10.11"
  },
  "orig_nbformat": 4
 },
 "nbformat": 4,
 "nbformat_minor": 2
}
